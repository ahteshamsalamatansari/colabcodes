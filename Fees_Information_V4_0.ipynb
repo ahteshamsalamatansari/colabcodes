# Sydney School Fee Analysis Script - Single Cell Google Colab Version
# Analyzes school fee structures and categorizes services/activities as included or separate charges

import requests
from bs4 import BeautifulSoup
import pandas as pd
import openai
import json
import time
import re
from urllib.parse import urljoin, urlparse
import warnings
warnings.filterwarnings('ignore')

# Set up OpenAI API
openai.api_key = '****'  # Replace with your actual API key

class SchoolFeeAnalyzer:
    def __init__(self):
        self.schools_data = []
        self.analysis_results = []

        # Define the 18 standardized categories
        self.categories = [
            "School sports", "School camps", "Extracurriculars", "Stationery", "Books",
            "Uniform", "Exam fees", "Trips", "Excursions", "Technology",
            "Pastoral & wellbeing", "Learning support", "Careers & pathways",
            "Facilities & services", "Insurance & risk", "Graduation & events",
            "Admin & payments", "Other fees"
        ]

        # URLs to analyze
        self.urls = [
            "https://www.tangara.nsw.edu.au/enrolments/",
            "https://www.hamilton.catholic.edu.au/parent-information/fees-overview/",
            "https://stalscronulla.syd.catholic.edu.au/enrolment/school-fees-and-assistance",
            "https://www.sydney.reddamhouse.com.au/admissions/fees",
            "https://www.sgcs.com.au/fees/"
        ]

    def extract_text_from_url(self, url):
        """Extract text content from a URL"""
        try:
            headers = {
                'User-Agent': 'Mozilla/5.0 (Windows NT 10.0; Win64; x64) AppleWebKit/537.36 (KHTML, like Gecko) Chrome/91.0.4472.124 Safari/537.36'
            }
            response = requests.get(url, headers=headers, timeout=30)
            response.raise_for_status()

            soup = BeautifulSoup(response.content, 'html.parser')

            # Remove script and style elements
            for script in soup(["script", "style"]):
                script.decompose()

            # Get text content
            text = soup.get_text()

            # Clean up text
            lines = (line.strip() for line in text.splitlines())
            chunks = (phrase.strip() for line in lines for phrase in line.split("  "))
            text = '\n'.join(chunk for chunk in chunks if chunk)

            return text[:10000]  # Limit text length for API processing

        except Exception as e:
            print(f"Error extracting text from {url}: {str(e)}")
            return f"Error accessing {url}: {str(e)}"

    def analyze_with_openai(self, school_name, url, text_content):
        """Use OpenAI API to analyze the school fee structure"""

        prompt = f"""
        You are an expert educational cost analyst. Analyze the following school fee information for {school_name} and extract:

        1. Year 12 annual tuition fee (if available)
        2. For each of the 18 categories below, determine the inclusion status using ONLY these four options:
           - "Included" - explicitly stated as included in tuition fees
           - "Separate Charge" - explicitly listed as additional fee
           - "Partially Included" - some elements included, others charged separately
           - "Not Known" - information not available in the provided text

        Categories to analyze:
        1. School sports: Coaching, training sessions, weekend competition fees, association levies, ground hire/transport, sports injury insurance, strength & conditioning
        2. School camps: Year-level outdoor ed, leadership & retreats, accommodation, catering, transport, activity providers
        3. Extracurriculars: Music ensembles/lessons, drama/productions, debating, STEM clubs, coding/robotics, service programs
        4. Stationery: Exercise books, art supplies, lab consumables, specialist materials (e.g., DT/wood/food tech)
        5. Books: Textbooks (print/digital), workbooks, e-books licences, library fees/photocopy levies
        6. Uniform: Academic uniform, sports kit, co-curricular uniforms, formal wear, seasonal items
        7. Exam fees: Internal exam admin, subject levies (e.g., science prac), external exam fees (e.g., HSC language providers, AMEB, music theory)
        8. Trips: Day trips and interstate/international tours not essential to curriculum (e.g., sports/music tours)
        9. Excursions: Curriculum-linked day excursions and incursions, museum/theatre entry, local transport
        10. Technology: Device program (BYOD vs school-issued), MDM/software licences, LMS/parent app, insurance/excess, tech support
        11. Pastoral & wellbeing: Counsellors/psych services access, wellbeing programs, camps/retreats linked to wellbeing
        12. Learning support: Literacy/numeracy support, adjustments, extension programs, psychometric testing contributions
        13. Careers & pathways: Work experience admin, careers testing, tertiary application support (UAC/early entry)
        14. Facilities & services: Locker, lab/arts/studio access, printing quotas, parking/bus services, building levies
        15. Insurance & risk: Student accident insurance, travel insurance for tours, instrument insurance (if school-hired)
        16. Graduation & events: Year 12 formal/valedictory, presentation days, house events, photo packs
        17. Admin & payments: Enrolment/application fee, acceptance bond, tuition instalment surcharges, late fees
        18. Other fees: Any additional mandatory fees not covered in the above categories

        CRITICAL: Only use information explicitly stated in the provided text. Do not make assumptions or estimates.

        Return your analysis in this JSON format:
        {{
            "school_name": "{school_name}",
            "year_12_fee": "amount or Not Known",
            "source_url": "{url}",
            "categories": {{
                "School sports": "status",
                "School camps": "status",
                ... (all 18 categories)
            }}
        }}

        School fee information:
        {text_content}
        """

        try:
            client = openai.OpenAI(api_key=openai.api_key)

            response = client.chat.completions.create(
                model="gpt-4o-mini",   # or "gpt-4o" if you want full GPT-4
                messages=[
                    {"role": "system", "content": "You are an expert educational cost analyst specializing in Australian school fee structures. Analyze only the information explicitly provided and never make assumptions."},
                    {"role": "user", "content": prompt}
                ],
                max_tokens=2000,
                temperature=0.1
            )

            response_text = response.choices[0].message.content.strip()


            # Extract JSON from response
            json_start = response_text.find('{')
            json_end = response_text.rfind('}') + 1

            if json_start != -1 and json_end != -1:
                json_str = response_text[json_start:json_end]
                return json.loads(json_str)
            else:
                print(f"Could not extract JSON from OpenAI response for {school_name}")
                return None

        except Exception as e:
            print(f"Error with OpenAI API for {school_name}: {str(e)}")
            return None

    def extract_school_name_from_url(self, url):
        """Extract school name from URL"""
        if "tangara" in url.lower():
            return "Tangara School for Girls"
        elif "hamilton.catholic" in url.lower():
            return "St Francis Xavier's College Hamilton"
        elif "stalscronulla" in url.lower():
            return "St Aloysius College Cronulla"
        elif "reddamhouse" in url.lower():
            return "Reddam House Sydney"
        elif "sgcs" in url.lower():
            return "St George Christian School"
        else:
            domain = urlparse(url).netloc
            return domain.replace('www.', '').replace('.com.au', '').replace('.edu.au', '').title()

    def process_all_schools(self):
        """Process all school URLs and analyze their fee structures"""
        print("Starting school fee analysis...")

        for url in self.urls:
            print(f"\nProcessing: {url}")
            school_name = self.extract_school_name_from_url(url)

            # Extract text content
            text_content = self.extract_text_from_url(url)

            if "Error accessing" in text_content:
                print(f"Skipping {school_name} due to access error")
                continue

            # Analyze with OpenAI
            analysis = self.analyze_with_openai(school_name, url, text_content)

            if analysis:
                self.analysis_results.append(analysis)
                print(f"Successfully analyzed {school_name}")
            else:
                print(f"Failed to analyze {school_name}")

            # Add delay to respect API rate limits
            time.sleep(2)

        return self.analysis_results

    def create_comparison_dataset(self):
        """Create Excel-ready comparison dataset"""
        if not self.analysis_results:
            print("No analysis results available")
            return None

        # Create DataFrame with school names and Year 12 fees
        data = []

        for result in self.analysis_results:
            row = {
                'School Name': result['school_name'],
                'Year 12 Fee': result['year_12_fee'],
                'Source URL': result['source_url']
            }

            # Add category analysis
            for category in self.categories:
                row[category] = result['categories'].get(category, 'Not Known')

            data.append(row)

        df = pd.DataFrame(data)

        # Save to CSV for Excel compatibility
        df.to_csv('sydney_school_fees_analysis.csv', index=False)
        print("\nDataset saved as 'sydney_school_fees_analysis.csv'")

        return df

    def generate_summary_report(self, df):
        """Generate summary report"""
        if df is None:
            return

        print("\n" + "="*80)
        print("SYDNEY SCHOOL FEES ANALYSIS SUMMARY")
        print("="*80)

        print(f"\nTotal schools analyzed: {len(df)}")

        print("\nSchools and Year 12 Fees:")
        for _, row in df.iterrows():
            print(f"• {row['School Name']}: {row['Year 12 Fee']}")

        print("\nMost commonly included services:")
        included_counts = {}
        for category in self.categories:
            included_count = (df[category] == 'Included').sum()
            if included_count > 0:
                included_counts[category] = included_count

        for category, count in sorted(included_counts.items(), key=lambda x: x[1], reverse=True)[:5]:
            print(f"• {category}: {count}/{len(df)} schools include")

        print("\nMost commonly charged separately:")
        separate_counts = {}
        for category in self.categories:
            separate_count = (df[category] == 'Separate Charge').sum()
            if separate_count > 0:
                separate_counts[category] = separate_count

        for category, count in sorted(separate_counts.items(), key=lambda x: x[1], reverse=True)[:5]:
            print(f"• {category}: {count}/{len(df)} schools charge separately")

# Main execution
def main():
    # Important: Set your OpenAI API key before running
    print("SYDNEY SCHOOL FEE ANALYZER")
    print("="*50)
    print("\nIMPORTANT: Please set your OpenAI API key in the code before running!")
    print("Replace 'your-openai-api-key-here' with your actual API key\n")

    # Initialize analyzer
    analyzer = SchoolFeeAnalyzer()

    # Process all schools
    results = analyzer.process_all_schools()

    if results:
        # Create comparison dataset
        df = analyzer.create_comparison_dataset()

        # Generate summary report
        analyzer.generate_summary_report(df)

        print("\n" + "="*80)
        print("ANALYSIS COMPLETE!")
        print("="*80)
        print("\nFiles created:")
        print("• sydney_school_fees_analysis.csv - Complete comparison dataset")

        # Display first few rows of the dataset
        if df is not None:
            print("\nFirst few rows of the analysis:")
            print(df.head().to_string())
    else:
        print("No schools were successfully analyzed. Please check your API key and internet connection.")

# Usage instructions
print("""
USAGE INSTRUCTIONS:
==================

1. Install required packages (run these if not already installed):
   !pip install requests beautifulsoup4 pandas openai

2. Set your OpenAI API key:
   - Replace 'your-openai-api-key-here' with your actual OpenAI API key
   - You can get an API key from: https://platform.openai.com/api-keys

3. Run the analysis:
   main()

4. The script will:
   - Extract fee information from each school website
   - Use OpenAI GPT-4 to analyze and categorize the information
   - Create a comprehensive comparison dataset
   - Save results as 'sydney_school_fees_analysis.csv'

FEATURES:
- Analyzes real data from official school websites
- Uses AI to intelligently categorize fee structures
- Creates Excel-ready comparison dataset
- Follows the exact framework specified in your prompt
- Only uses information explicitly stated in official sources
""")

# Uncomment the line below to run the analysis
main()
