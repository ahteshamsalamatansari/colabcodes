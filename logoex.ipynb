{
  "nbformat": 4,
  "nbformat_minor": 0,
  "metadata": {
    "colab": {
      "provenance": [],
      "authorship_tag": "ABX9TyPLHknlh4pWzpKUZJiSyaH2",
      "include_colab_link": true
    },
    "kernelspec": {
      "name": "python3",
      "display_name": "Python 3"
    },
    "language_info": {
      "name": "python"
    }
  },
  "cells": [
    {
      "cell_type": "markdown",
      "metadata": {
        "id": "view-in-github",
        "colab_type": "text"
      },
      "source": [
        "<a href=\"https://colab.research.google.com/github/ahteshamsalamatansari/colabcodes/blob/main/logoex.ipynb\" target=\"_parent\"><img src=\"https://colab.research.google.com/assets/colab-badge.svg\" alt=\"Open In Colab\"/></a>"
      ]
    },
    {
      "cell_type": "code",
      "source": [
        "!google-chrome --version"
      ],
      "metadata": {
        "id": "dUycpU5i1eMm"
      },
      "execution_count": null,
      "outputs": []
    },
    {
      "cell_type": "code",
      "execution_count": null,
      "metadata": {
        "id": "AvhS04KGyPfZ"
      },
      "outputs": [],
      "source": [
        "!wget -q -O chromedriver.zip https://storage.googleapis.com/chrome-for-testing-public/140.0.7339.207/linux64/chromedriver-linux64.zip\n",
        "!unzip -o chromedriver.zip\n",
        "!mv -f chromedriver-linux64/chromedriver /usr/bin/chromedriver\n",
        "!chmod +x /usr/bin/chromedriver\n",
        "!rm -rf chromedriver-linux64 chromedriver.zip\n",
        "!pip install selenium --quiet"
      ]
    },
    {
      "cell_type": "code",
      "source": [
        "!chromedriver --version\n",
        "!google-chrome --version"
      ],
      "metadata": {
        "id": "AJ7CDzFf4NoN"
      },
      "execution_count": null,
      "outputs": []
    },
    {
      "cell_type": "code",
      "source": [
        "import time\n",
        "import pandas as pd\n",
        "from selenium import webdriver\n",
        "from selenium.webdriver.common.by import By\n",
        "from selenium.webdriver.chrome.options import Options\n",
        "from selenium.webdriver.chrome.service import Service\n",
        "\n",
        "chrome_options = Options()\n",
        "chrome_options.add_argument('--headless')\n",
        "chrome_options.add_argument('--no-sandbox')\n",
        "chrome_options.add_argument('--disable-dev-shm-usage')\n",
        "chrome_options.add_argument('--window-size=1920,1200')\n",
        "chrome_options.binary_location = '/usr/bin/google-chrome'\n",
        "\n",
        "driver = webdriver.Chrome(service=Service('/usr/bin/chromedriver'), options=chrome_options)\n",
        "url = 'https://vivatechnology.com/partners-wall#partners_exhibitor_partners'\n",
        "driver.get(url)\n",
        "time.sleep(10)  # Wait for JS-heavy content to fully load (increase if needed)\n",
        "\n",
        "# Scroll to \"Exhibitor Partners\" (optional, helps lazy-load)\n",
        "try:\n",
        "    section = driver.find_element(By.XPATH, \"//*[contains(text(), 'Exhibitor Partners')]\")\n",
        "    driver.execute_script(\"arguments[0].scrollIntoView(true);\", section)\n",
        "    time.sleep(3)\n",
        "except Exception:\n",
        "    pass\n",
        "\n",
        "# ----------- Scrape all <li> entries containing <img alt=...> under exhibitor partners -----------\n",
        "logo_data = []\n",
        "# Multiple XPath strategies for robustness\n",
        "selectors = [\n",
        "    \"//h4[contains(text(), 'Exhibitor Partners')]/following-sibling::*//li[.//img[@alt]]\",\n",
        "    \"//h3[contains(text(), 'Exhibitor Partners')]/following-sibling::*//li[.//img[@alt]]\",\n",
        "    \"//li[.//img[@alt and string-length(@alt) > 2]]\"\n",
        "]\n",
        "found = False\n",
        "for sel in selectors:\n",
        "    lis = driver.find_elements(By.XPATH, sel)\n",
        "    if len(lis) >= 5:  # likely correct parent if section is loaded\n",
        "        for li in lis:\n",
        "            imgs = li.find_elements(By.TAG_NAME, 'img')\n",
        "            for img in imgs:\n",
        "                alt = img.get_attribute('alt')\n",
        "                src = img.get_attribute('src')\n",
        "                if alt and len(alt.strip()) > 2:\n",
        "                    logo_data.append({'alt_text': alt.strip(), 'img_src': src})\n",
        "        found = True\n",
        "        break\n",
        "\n",
        "if not found:\n",
        "    imgs = driver.find_elements(By.XPATH, \"//img[@alt and string-length(@alt) > 2]\")\n",
        "    for img in imgs:\n",
        "        alt = img.get_attribute('alt')\n",
        "        src = img.get_attribute('src')\n",
        "        if alt:\n",
        "            logo_data.append({'alt_text': alt.strip(), 'img_src': src})\n",
        "\n",
        "driver.quit()\n",
        "\n",
        "# 4. Save and show results\n",
        "df = pd.DataFrame(logo_data).drop_duplicates()\n",
        "csvfile = \"vivatech_exhibitor_partners_logos.csv\"\n",
        "df.to_csv(csvfile, index=False, encoding='utf-8')\n",
        "print(f\"✅ Found {len(df)} logo alt texts. Download below:\")\n",
        "\n",
        "from IPython.display import display, HTML\n",
        "display(df.head(10))\n",
        "display(HTML(f'<a href=\\\"{csvfile}\\\" download>📥 Download CSV</a>'))\n",
        "\n",
        "if len(df) > 0:\n",
        "    print(\"\\nAlt Texts Extracted:\")\n",
        "    for i, row in df.head(15).iterrows():\n",
        "        print(f\"{i+1:2d}. {row['alt_text']}\")\n",
        "    if len(df) > 15:\n",
        "        print(f\"...and {len(df)-15} more.\")\n",
        "else:\n",
        "    print(\"❌ No alt texts found. Try increasing time.sleep, or check if section loads properly.\")"
      ],
      "metadata": {
        "id": "KugoX6NY39Wd"
      },
      "execution_count": null,
      "outputs": []
    }
  ]
}