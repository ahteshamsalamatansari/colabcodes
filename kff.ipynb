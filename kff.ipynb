{
  "nbformat": 4,
  "nbformat_minor": 0,
  "metadata": {
    "colab": {
      "provenance": [],
      "authorship_tag": "ABX9TyO3o8qi4hzUfCyHG3tok9bX",
      "include_colab_link": true
    },
    "kernelspec": {
      "name": "python3",
      "display_name": "Python 3"
    },
    "language_info": {
      "name": "python"
    }
  },
  "cells": [
    {
      "cell_type": "markdown",
      "metadata": {
        "id": "view-in-github",
        "colab_type": "text"
      },
      "source": [
        "<a href=\"https://colab.research.google.com/github/ahteshamsalamatansari/colabcodes/blob/main/kff.ipynb\" target=\"_parent\"><img src=\"https://colab.research.google.com/assets/colab-badge.svg\" alt=\"Open In Colab\"/></a>"
      ]
    },
    {
      "cell_type": "code",
      "execution_count": 5,
      "metadata": {
        "colab": {
          "base_uri": "https://localhost:8080/"
        },
        "id": "UO11ElziEQTr",
        "outputId": "a7cae5a7-489e-42fc-a023-b0e616d50fd2"
      },
      "outputs": [
        {
          "output_type": "stream",
          "name": "stdout",
          "text": [
            "🌟 KFF Health News Article Scraper\n",
            "============================================================\n",
            "📁 Enter the path to your URLs file (or press Enter for test mode): /content/urls.txt.txt\n",
            "📁 Loaded 4057 URLs from /content/urls.txt.txt\n",
            "🚀 KFF Health News Scraper Initialized\n",
            "⚙️ Settings: 20 workers, 15s timeout\n",
            "============================================================\n",
            "🎯 Starting to scrape 4057 URLs\n",
            "🔧 Using 20 concurrent workers\n",
            "🎯 Target: Complete in ~40 minutes\n",
            "============================================================\n",
            "📊 Progress: 50/4057 (1.2%)\n",
            "⏱️  Elapsed: 0.1min | ETA: 4.5min\n",
            "✅ Success: 50 | ❌ Failed: 0\n",
            "📝 Avg content length: 8333 chars\n",
            "------------------------------------------------------------\n"
          ]
        },
        {
          "output_type": "stream",
          "name": "stderr",
          "text": [
            "WARNING:urllib3.connectionpool:Connection pool is full, discarding connection: kffhealthnews.org. Connection pool size: 10\n",
            "WARNING:urllib3.connectionpool:Connection pool is full, discarding connection: kffhealthnews.org. Connection pool size: 10\n",
            "WARNING:urllib3.connectionpool:Connection pool is full, discarding connection: kffhealthnews.org. Connection pool size: 10\n",
            "WARNING:urllib3.connectionpool:Connection pool is full, discarding connection: kffhealthnews.org. Connection pool size: 10\n",
            "WARNING:urllib3.connectionpool:Connection pool is full, discarding connection: kffhealthnews.org. Connection pool size: 10\n",
            "WARNING:urllib3.connectionpool:Connection pool is full, discarding connection: kffhealthnews.org. Connection pool size: 10\n",
            "WARNING:urllib3.connectionpool:Connection pool is full, discarding connection: kffhealthnews.org. Connection pool size: 10\n",
            "WARNING:urllib3.connectionpool:Connection pool is full, discarding connection: kffhealthnews.org. Connection pool size: 10\n"
          ]
        },
        {
          "output_type": "stream",
          "name": "stdout",
          "text": [
            "📊 Progress: 100/4057 (2.5%)\n",
            "⏱️  Elapsed: 0.1min | ETA: 5.1min\n",
            "✅ Success: 100 | ❌ Failed: 0\n",
            "📝 Avg content length: 7955 chars\n",
            "------------------------------------------------------------\n",
            "📊 Progress: 150/4057 (3.7%)\n",
            "⏱️  Elapsed: 0.2min | ETA: 4.7min\n",
            "✅ Success: 150 | ❌ Failed: 0\n",
            "📝 Avg content length: 8114 chars\n",
            "------------------------------------------------------------\n",
            "📊 Progress: 200/4057 (4.9%)\n",
            "⏱️  Elapsed: 0.2min | ETA: 4.4min\n",
            "✅ Success: 200 | ❌ Failed: 0\n",
            "📝 Avg content length: 8210 chars\n",
            "------------------------------------------------------------\n",
            "📊 Progress: 250/4057 (6.2%)\n",
            "⏱️  Elapsed: 0.3min | ETA: 4.2min\n",
            "✅ Success: 250 | ❌ Failed: 0\n",
            "📝 Avg content length: 8193 chars\n",
            "------------------------------------------------------------\n"
          ]
        },
        {
          "output_type": "stream",
          "name": "stderr",
          "text": [
            "WARNING:urllib3.connectionpool:Connection pool is full, discarding connection: kffhealthnews.org. Connection pool size: 10\n",
            "WARNING:urllib3.connectionpool:Connection pool is full, discarding connection: kffhealthnews.org. Connection pool size: 10\n",
            "WARNING:urllib3.connectionpool:Connection pool is full, discarding connection: kffhealthnews.org. Connection pool size: 10\n",
            "WARNING:urllib3.connectionpool:Connection pool is full, discarding connection: kffhealthnews.org. Connection pool size: 10\n",
            "WARNING:urllib3.connectionpool:Connection pool is full, discarding connection: kffhealthnews.org. Connection pool size: 10\n",
            "WARNING:urllib3.connectionpool:Connection pool is full, discarding connection: kffhealthnews.org. Connection pool size: 10\n",
            "WARNING:urllib3.connectionpool:Connection pool is full, discarding connection: kffhealthnews.org. Connection pool size: 10\n"
          ]
        },
        {
          "output_type": "stream",
          "name": "stdout",
          "text": [
            "📊 Progress: 300/4057 (7.4%)\n",
            "⏱️  Elapsed: 0.3min | ETA: 4.3min\n",
            "✅ Success: 300 | ❌ Failed: 0\n",
            "📝 Avg content length: 8109 chars\n",
            "------------------------------------------------------------\n",
            "📊 Progress: 350/4057 (8.6%)\n",
            "⏱️  Elapsed: 0.4min | ETA: 4.2min\n",
            "✅ Success: 350 | ❌ Failed: 0\n",
            "📝 Avg content length: 8289 chars\n",
            "------------------------------------------------------------\n",
            "📊 Progress: 400/4057 (9.9%)\n",
            "⏱️  Elapsed: 0.4min | ETA: 4.1min\n",
            "✅ Success: 400 | ❌ Failed: 0\n",
            "📝 Avg content length: 8103 chars\n",
            "------------------------------------------------------------\n"
          ]
        },
        {
          "output_type": "stream",
          "name": "stderr",
          "text": [
            "WARNING:urllib3.connectionpool:Connection pool is full, discarding connection: kffhealthnews.org. Connection pool size: 10\n",
            "WARNING:urllib3.connectionpool:Connection pool is full, discarding connection: kffhealthnews.org. Connection pool size: 10\n",
            "WARNING:urllib3.connectionpool:Connection pool is full, discarding connection: kffhealthnews.org. Connection pool size: 10\n"
          ]
        },
        {
          "output_type": "stream",
          "name": "stdout",
          "text": [
            "📊 Progress: 450/4057 (11.1%)\n",
            "⏱️  Elapsed: 0.5min | ETA: 4.0min\n",
            "✅ Success: 450 | ❌ Failed: 0\n",
            "📝 Avg content length: 7942 chars\n",
            "------------------------------------------------------------\n"
          ]
        },
        {
          "output_type": "stream",
          "name": "stderr",
          "text": [
            "WARNING:urllib3.connectionpool:Connection pool is full, discarding connection: kffhealthnews.org. Connection pool size: 10\n",
            "WARNING:urllib3.connectionpool:Connection pool is full, discarding connection: kffhealthnews.org. Connection pool size: 10\n",
            "WARNING:urllib3.connectionpool:Connection pool is full, discarding connection: kffhealthnews.org. Connection pool size: 10\n",
            "WARNING:urllib3.connectionpool:Connection pool is full, discarding connection: kffhealthnews.org. Connection pool size: 10\n",
            "WARNING:urllib3.connectionpool:Connection pool is full, discarding connection: kffhealthnews.org. Connection pool size: 10\n",
            "WARNING:urllib3.connectionpool:Connection pool is full, discarding connection: kffhealthnews.org. Connection pool size: 10\n",
            "WARNING:urllib3.connectionpool:Connection pool is full, discarding connection: kffhealthnews.org. Connection pool size: 10\n"
          ]
        },
        {
          "output_type": "stream",
          "name": "stdout",
          "text": [
            "📊 Progress: 500/4057 (12.3%)\n",
            "⏱️  Elapsed: 0.6min | ETA: 4.0min\n",
            "✅ Success: 500 | ❌ Failed: 0\n",
            "📝 Avg content length: 7883 chars\n",
            "------------------------------------------------------------\n",
            "📊 Progress: 550/4057 (13.6%)\n",
            "⏱️  Elapsed: 0.6min | ETA: 3.9min\n",
            "✅ Success: 550 | ❌ Failed: 0\n",
            "📝 Avg content length: 7922 chars\n",
            "------------------------------------------------------------\n",
            "📊 Progress: 600/4057 (14.8%)\n",
            "⏱️  Elapsed: 0.7min | ETA: 3.8min\n",
            "✅ Success: 600 | ❌ Failed: 0\n",
            "📝 Avg content length: 7894 chars\n",
            "------------------------------------------------------------\n",
            "📊 Progress: 650/4057 (16.0%)\n",
            "⏱️  Elapsed: 0.7min | ETA: 3.7min\n",
            "✅ Success: 650 | ❌ Failed: 0\n",
            "📝 Avg content length: 7954 chars\n",
            "------------------------------------------------------------\n"
          ]
        },
        {
          "output_type": "stream",
          "name": "stderr",
          "text": [
            "WARNING:urllib3.connectionpool:Connection pool is full, discarding connection: kffhealthnews.org. Connection pool size: 10\n",
            "WARNING:urllib3.connectionpool:Connection pool is full, discarding connection: kffhealthnews.org. Connection pool size: 10\n",
            "WARNING:urllib3.connectionpool:Connection pool is full, discarding connection: kffhealthnews.org. Connection pool size: 10\n",
            "WARNING:urllib3.connectionpool:Connection pool is full, discarding connection: kffhealthnews.org. Connection pool size: 10\n",
            "WARNING:urllib3.connectionpool:Connection pool is full, discarding connection: kffhealthnews.org. Connection pool size: 10\n",
            "WARNING:urllib3.connectionpool:Connection pool is full, discarding connection: kffhealthnews.org. Connection pool size: 10\n",
            "WARNING:urllib3.connectionpool:Connection pool is full, discarding connection: kffhealthnews.org. Connection pool size: 10\n",
            "WARNING:urllib3.connectionpool:Connection pool is full, discarding connection: kffhealthnews.org. Connection pool size: 10\n"
          ]
        },
        {
          "output_type": "stream",
          "name": "stdout",
          "text": [
            "📊 Progress: 700/4057 (17.3%)\n",
            "⏱️  Elapsed: 0.8min | ETA: 3.7min\n",
            "✅ Success: 700 | ❌ Failed: 0\n",
            "📝 Avg content length: 7905 chars\n",
            "------------------------------------------------------------\n",
            "📊 Progress: 750/4057 (18.5%)\n",
            "⏱️  Elapsed: 0.8min | ETA: 3.7min\n",
            "✅ Success: 750 | ❌ Failed: 0\n",
            "📝 Avg content length: 7903 chars\n",
            "------------------------------------------------------------\n",
            "📊 Progress: 800/4057 (19.7%)\n",
            "⏱️  Elapsed: 0.9min | ETA: 3.6min\n",
            "✅ Success: 800 | ❌ Failed: 0\n",
            "📝 Avg content length: 7899 chars\n",
            "------------------------------------------------------------\n",
            "📊 Progress: 850/4057 (21.0%)\n",
            "⏱️  Elapsed: 0.9min | ETA: 3.5min\n",
            "✅ Success: 850 | ❌ Failed: 0\n",
            "📝 Avg content length: 7910 chars\n",
            "------------------------------------------------------------\n"
          ]
        },
        {
          "output_type": "stream",
          "name": "stderr",
          "text": [
            "WARNING:urllib3.connectionpool:Connection pool is full, discarding connection: kffhealthnews.org. Connection pool size: 10\n",
            "WARNING:urllib3.connectionpool:Connection pool is full, discarding connection: kffhealthnews.org. Connection pool size: 10\n",
            "WARNING:urllib3.connectionpool:Connection pool is full, discarding connection: kffhealthnews.org. Connection pool size: 10\n",
            "WARNING:urllib3.connectionpool:Connection pool is full, discarding connection: kffhealthnews.org. Connection pool size: 10\n",
            "WARNING:urllib3.connectionpool:Connection pool is full, discarding connection: kffhealthnews.org. Connection pool size: 10\n",
            "WARNING:urllib3.connectionpool:Connection pool is full, discarding connection: kffhealthnews.org. Connection pool size: 10\n",
            "WARNING:urllib3.connectionpool:Connection pool is full, discarding connection: kffhealthnews.org. Connection pool size: 10\n",
            "WARNING:urllib3.connectionpool:Connection pool is full, discarding connection: kffhealthnews.org. Connection pool size: 10\n",
            "WARNING:urllib3.connectionpool:Connection pool is full, discarding connection: kffhealthnews.org. Connection pool size: 10\n"
          ]
        },
        {
          "output_type": "stream",
          "name": "stdout",
          "text": [
            "📊 Progress: 900/4057 (22.2%)\n",
            "⏱️  Elapsed: 1.0min | ETA: 3.5min\n",
            "✅ Success: 900 | ❌ Failed: 0\n",
            "📝 Avg content length: 7966 chars\n",
            "------------------------------------------------------------\n",
            "📊 Progress: 950/4057 (23.4%)\n",
            "⏱️  Elapsed: 1.1min | ETA: 3.4min\n",
            "✅ Success: 950 | ❌ Failed: 0\n",
            "📝 Avg content length: 7941 chars\n",
            "------------------------------------------------------------\n"
          ]
        },
        {
          "output_type": "stream",
          "name": "stderr",
          "text": [
            "WARNING:urllib3.connectionpool:Connection pool is full, discarding connection: kffhealthnews.org. Connection pool size: 10\n"
          ]
        },
        {
          "output_type": "stream",
          "name": "stdout",
          "text": [
            "📊 Progress: 1000/4057 (24.6%)\n",
            "⏱️  Elapsed: 1.1min | ETA: 3.4min\n",
            "✅ Success: 1000 | ❌ Failed: 0\n",
            "📝 Avg content length: 7927 chars\n",
            "------------------------------------------------------------\n",
            "📊 Progress: 1050/4057 (25.9%)\n",
            "⏱️  Elapsed: 1.1min | ETA: 3.3min\n",
            "✅ Success: 1050 | ❌ Failed: 0\n",
            "📝 Avg content length: 7895 chars\n",
            "------------------------------------------------------------\n"
          ]
        },
        {
          "output_type": "stream",
          "name": "stderr",
          "text": [
            "WARNING:urllib3.connectionpool:Connection pool is full, discarding connection: kffhealthnews.org. Connection pool size: 10\n",
            "WARNING:urllib3.connectionpool:Connection pool is full, discarding connection: kffhealthnews.org. Connection pool size: 9\n",
            "WARNING:urllib3.connectionpool:Connection pool is full, discarding connection: kffhealthnews.org. Connection pool size: 10\n",
            "WARNING:urllib3.connectionpool:Connection pool is full, discarding connection: kffhealthnews.org. Connection pool size: 10\n",
            "WARNING:urllib3.connectionpool:Connection pool is full, discarding connection: kffhealthnews.org. Connection pool size: 10\n",
            "WARNING:urllib3.connectionpool:Connection pool is full, discarding connection: kffhealthnews.org. Connection pool size: 10\n"
          ]
        },
        {
          "output_type": "stream",
          "name": "stdout",
          "text": [
            "📊 Progress: 1100/4057 (27.1%)\n",
            "⏱️  Elapsed: 1.2min | ETA: 3.3min\n",
            "✅ Success: 1100 | ❌ Failed: 0\n",
            "📝 Avg content length: 7903 chars\n",
            "------------------------------------------------------------\n",
            "📊 Progress: 1150/4057 (28.3%)\n",
            "⏱️  Elapsed: 1.3min | ETA: 3.2min\n",
            "✅ Success: 1150 | ❌ Failed: 0\n",
            "📝 Avg content length: 7860 chars\n",
            "------------------------------------------------------------\n",
            "📊 Progress: 1200/4057 (29.6%)\n",
            "⏱️  Elapsed: 1.3min | ETA: 3.1min\n",
            "✅ Success: 1200 | ❌ Failed: 0\n",
            "📝 Avg content length: 7880 chars\n",
            "------------------------------------------------------------\n",
            "📊 Progress: 1250/4057 (30.8%)\n",
            "⏱️  Elapsed: 1.4min | ETA: 3.1min\n",
            "✅ Success: 1250 | ❌ Failed: 0\n",
            "📝 Avg content length: 7855 chars\n",
            "------------------------------------------------------------\n"
          ]
        },
        {
          "output_type": "stream",
          "name": "stderr",
          "text": [
            "WARNING:urllib3.connectionpool:Connection pool is full, discarding connection: kffhealthnews.org. Connection pool size: 10\n",
            "WARNING:urllib3.connectionpool:Connection pool is full, discarding connection: kffhealthnews.org. Connection pool size: 10\n",
            "WARNING:urllib3.connectionpool:Connection pool is full, discarding connection: kffhealthnews.org. Connection pool size: 10\n",
            "WARNING:urllib3.connectionpool:Connection pool is full, discarding connection: kffhealthnews.org. Connection pool size: 10\n",
            "WARNING:urllib3.connectionpool:Connection pool is full, discarding connection: kffhealthnews.org. Connection pool size: 10\n",
            "WARNING:urllib3.connectionpool:Connection pool is full, discarding connection: kffhealthnews.org. Connection pool size: 10\n"
          ]
        },
        {
          "output_type": "stream",
          "name": "stdout",
          "text": [
            "📊 Progress: 1300/4057 (32.0%)\n",
            "⏱️  Elapsed: 1.4min | ETA: 3.0min\n",
            "✅ Success: 1300 | ❌ Failed: 0\n",
            "📝 Avg content length: 7917 chars\n",
            "------------------------------------------------------------\n",
            "📊 Progress: 1350/4057 (33.3%)\n",
            "⏱️  Elapsed: 1.5min | ETA: 3.0min\n",
            "✅ Success: 1350 | ❌ Failed: 0\n",
            "📝 Avg content length: 7908 chars\n",
            "------------------------------------------------------------\n",
            "📊 Progress: 1400/4057 (34.5%)\n",
            "⏱️  Elapsed: 1.5min | ETA: 2.9min\n",
            "✅ Success: 1400 | ❌ Failed: 0\n",
            "📝 Avg content length: 7919 chars\n",
            "------------------------------------------------------------\n",
            "📊 Progress: 1450/4057 (35.7%)\n",
            "⏱️  Elapsed: 1.6min | ETA: 2.8min\n",
            "✅ Success: 1450 | ❌ Failed: 0\n",
            "📝 Avg content length: 7917 chars\n",
            "------------------------------------------------------------\n"
          ]
        },
        {
          "output_type": "stream",
          "name": "stderr",
          "text": [
            "WARNING:urllib3.connectionpool:Connection pool is full, discarding connection: kffhealthnews.org. Connection pool size: 10\n",
            "WARNING:urllib3.connectionpool:Connection pool is full, discarding connection: kffhealthnews.org. Connection pool size: 10\n",
            "WARNING:urllib3.connectionpool:Connection pool is full, discarding connection: kffhealthnews.org. Connection pool size: 10\n",
            "WARNING:urllib3.connectionpool:Connection pool is full, discarding connection: kffhealthnews.org. Connection pool size: 10\n",
            "WARNING:urllib3.connectionpool:Connection pool is full, discarding connection: kffhealthnews.org. Connection pool size: 10\n"
          ]
        },
        {
          "output_type": "stream",
          "name": "stdout",
          "text": [
            "📊 Progress: 1500/4057 (37.0%)\n",
            "⏱️  Elapsed: 1.6min | ETA: 2.8min\n",
            "✅ Success: 1500 | ❌ Failed: 0\n",
            "📝 Avg content length: 7931 chars\n",
            "------------------------------------------------------------\n"
          ]
        },
        {
          "output_type": "stream",
          "name": "stderr",
          "text": [
            "WARNING:urllib3.connectionpool:Connection pool is full, discarding connection: kffhealthnews.org. Connection pool size: 10\n",
            "WARNING:urllib3.connectionpool:Connection pool is full, discarding connection: kffhealthnews.org. Connection pool size: 10\n",
            "WARNING:urllib3.connectionpool:Connection pool is full, discarding connection: kffhealthnews.org. Connection pool size: 10\n",
            "WARNING:urllib3.connectionpool:Connection pool is full, discarding connection: kffhealthnews.org. Connection pool size: 10\n"
          ]
        },
        {
          "output_type": "stream",
          "name": "stdout",
          "text": [
            "📊 Progress: 1550/4057 (38.2%)\n",
            "⏱️  Elapsed: 1.7min | ETA: 2.7min\n",
            "✅ Success: 1550 | ❌ Failed: 0\n",
            "📝 Avg content length: 7954 chars\n",
            "------------------------------------------------------------\n",
            "📊 Progress: 1600/4057 (39.4%)\n",
            "⏱️  Elapsed: 1.7min | ETA: 2.7min\n",
            "✅ Success: 1600 | ❌ Failed: 0\n",
            "📝 Avg content length: 7947 chars\n",
            "------------------------------------------------------------\n",
            "📊 Progress: 1650/4057 (40.7%)\n",
            "⏱️  Elapsed: 1.8min | ETA: 2.6min\n",
            "✅ Success: 1650 | ❌ Failed: 0\n",
            "📝 Avg content length: 7939 chars\n",
            "------------------------------------------------------------\n",
            "📊 Progress: 1700/4057 (41.9%)\n",
            "⏱️  Elapsed: 1.8min | ETA: 2.6min\n",
            "✅ Success: 1700 | ❌ Failed: 0\n",
            "📝 Avg content length: 7959 chars\n",
            "------------------------------------------------------------\n"
          ]
        },
        {
          "output_type": "stream",
          "name": "stderr",
          "text": [
            "WARNING:urllib3.connectionpool:Connection pool is full, discarding connection: kffhealthnews.org. Connection pool size: 10\n",
            "WARNING:urllib3.connectionpool:Connection pool is full, discarding connection: kffhealthnews.org. Connection pool size: 10\n",
            "WARNING:urllib3.connectionpool:Connection pool is full, discarding connection: kffhealthnews.org. Connection pool size: 10\n",
            "WARNING:urllib3.connectionpool:Connection pool is full, discarding connection: kffhealthnews.org. Connection pool size: 10\n",
            "WARNING:urllib3.connectionpool:Connection pool is full, discarding connection: kffhealthnews.org. Connection pool size: 10\n",
            "WARNING:urllib3.connectionpool:Connection pool is full, discarding connection: kffhealthnews.org. Connection pool size: 10\n",
            "WARNING:urllib3.connectionpool:Connection pool is full, discarding connection: kffhealthnews.org. Connection pool size: 10\n",
            "WARNING:urllib3.connectionpool:Connection pool is full, discarding connection: kffhealthnews.org. Connection pool size: 10\n",
            "WARNING:urllib3.connectionpool:Connection pool is full, discarding connection: kffhealthnews.org. Connection pool size: 10\n"
          ]
        },
        {
          "output_type": "stream",
          "name": "stdout",
          "text": [
            "📊 Progress: 1750/4057 (43.1%)\n",
            "⏱️  Elapsed: 1.9min | ETA: 2.5min\n",
            "✅ Success: 1750 | ❌ Failed: 0\n",
            "📝 Avg content length: 7990 chars\n",
            "------------------------------------------------------------\n",
            "📊 Progress: 1800/4057 (44.4%)\n",
            "⏱️  Elapsed: 2.0min | ETA: 2.5min\n",
            "✅ Success: 1800 | ❌ Failed: 0\n",
            "📝 Avg content length: 7986 chars\n",
            "------------------------------------------------------------\n",
            "📊 Progress: 1850/4057 (45.6%)\n",
            "⏱️  Elapsed: 2.0min | ETA: 2.4min\n",
            "✅ Success: 1850 | ❌ Failed: 0\n",
            "📝 Avg content length: 7990 chars\n",
            "------------------------------------------------------------\n",
            "📊 Progress: 1900/4057 (46.8%)\n",
            "⏱️  Elapsed: 2.1min | ETA: 2.3min\n",
            "✅ Success: 1900 | ❌ Failed: 0\n",
            "📝 Avg content length: 7993 chars\n",
            "------------------------------------------------------------\n"
          ]
        },
        {
          "output_type": "stream",
          "name": "stderr",
          "text": [
            "WARNING:urllib3.connectionpool:Connection pool is full, discarding connection: kffhealthnews.org. Connection pool size: 10\n",
            "WARNING:urllib3.connectionpool:Connection pool is full, discarding connection: kffhealthnews.org. Connection pool size: 10\n",
            "WARNING:urllib3.connectionpool:Connection pool is full, discarding connection: kffhealthnews.org. Connection pool size: 10\n",
            "WARNING:urllib3.connectionpool:Connection pool is full, discarding connection: kffhealthnews.org. Connection pool size: 10\n",
            "WARNING:urllib3.connectionpool:Connection pool is full, discarding connection: kffhealthnews.org. Connection pool size: 10\n",
            "WARNING:urllib3.connectionpool:Connection pool is full, discarding connection: kffhealthnews.org. Connection pool size: 10\n",
            "WARNING:urllib3.connectionpool:Connection pool is full, discarding connection: kffhealthnews.org. Connection pool size: 10\n",
            "WARNING:urllib3.connectionpool:Connection pool is full, discarding connection: kffhealthnews.org. Connection pool size: 10\n"
          ]
        },
        {
          "output_type": "stream",
          "name": "stdout",
          "text": [
            "📊 Progress: 1950/4057 (48.1%)\n",
            "⏱️  Elapsed: 2.1min | ETA: 2.3min\n",
            "✅ Success: 1950 | ❌ Failed: 0\n",
            "📝 Avg content length: 7991 chars\n",
            "------------------------------------------------------------\n",
            "📊 Progress: 2000/4057 (49.3%)\n",
            "⏱️  Elapsed: 2.2min | ETA: 2.2min\n",
            "✅ Success: 2000 | ❌ Failed: 0\n",
            "📝 Avg content length: 8002 chars\n",
            "------------------------------------------------------------\n"
          ]
        },
        {
          "output_type": "stream",
          "name": "stderr",
          "text": [
            "WARNING:urllib3.connectionpool:Connection pool is full, discarding connection: kffhealthnews.org. Connection pool size: 10\n"
          ]
        },
        {
          "output_type": "stream",
          "name": "stdout",
          "text": [
            "📊 Progress: 2050/4057 (50.5%)\n",
            "⏱️  Elapsed: 2.2min | ETA: 2.2min\n",
            "✅ Success: 2050 | ❌ Failed: 0\n",
            "📝 Avg content length: 7989 chars\n",
            "------------------------------------------------------------\n",
            "📊 Progress: 2100/4057 (51.8%)\n",
            "⏱️  Elapsed: 2.3min | ETA: 2.1min\n",
            "✅ Success: 2100 | ❌ Failed: 0\n",
            "📝 Avg content length: 7998 chars\n",
            "------------------------------------------------------------\n"
          ]
        },
        {
          "output_type": "stream",
          "name": "stderr",
          "text": [
            "WARNING:urllib3.connectionpool:Connection pool is full, discarding connection: kffhealthnews.org. Connection pool size: 10\n",
            "WARNING:urllib3.connectionpool:Connection pool is full, discarding connection: kffhealthnews.org. Connection pool size: 10\n",
            "WARNING:urllib3.connectionpool:Connection pool is full, discarding connection: kffhealthnews.org. Connection pool size: 10\n",
            "WARNING:urllib3.connectionpool:Connection pool is full, discarding connection: kffhealthnews.org. Connection pool size: 10\n",
            "WARNING:urllib3.connectionpool:Connection pool is full, discarding connection: kffhealthnews.org. Connection pool size: 10\n",
            "WARNING:urllib3.connectionpool:Connection pool is full, discarding connection: kffhealthnews.org. Connection pool size: 10\n",
            "WARNING:urllib3.connectionpool:Connection pool is full, discarding connection: kffhealthnews.org. Connection pool size: 10\n",
            "WARNING:urllib3.connectionpool:Connection pool is full, discarding connection: kffhealthnews.org. Connection pool size: 10\n"
          ]
        },
        {
          "output_type": "stream",
          "name": "stdout",
          "text": [
            "📊 Progress: 2150/4057 (53.0%)\n",
            "⏱️  Elapsed: 2.4min | ETA: 2.1min\n",
            "✅ Success: 2150 | ❌ Failed: 0\n",
            "📝 Avg content length: 7990 chars\n",
            "------------------------------------------------------------\n",
            "📊 Progress: 2200/4057 (54.2%)\n",
            "⏱️  Elapsed: 2.4min | ETA: 2.0min\n",
            "✅ Success: 2200 | ❌ Failed: 0\n",
            "📝 Avg content length: 7971 chars\n",
            "------------------------------------------------------------\n",
            "📊 Progress: 2250/4057 (55.5%)\n",
            "⏱️  Elapsed: 2.4min | ETA: 2.0min\n",
            "✅ Success: 2250 | ❌ Failed: 0\n",
            "📝 Avg content length: 7952 chars\n",
            "------------------------------------------------------------\n"
          ]
        },
        {
          "output_type": "stream",
          "name": "stderr",
          "text": [
            "WARNING:urllib3.connectionpool:Connection pool is full, discarding connection: kffhealthnews.org. Connection pool size: 10\n"
          ]
        },
        {
          "output_type": "stream",
          "name": "stdout",
          "text": [
            "📊 Progress: 2300/4057 (56.7%)\n",
            "⏱️  Elapsed: 2.5min | ETA: 1.9min\n",
            "✅ Success: 2300 | ❌ Failed: 0\n",
            "📝 Avg content length: 7945 chars\n",
            "------------------------------------------------------------\n"
          ]
        },
        {
          "output_type": "stream",
          "name": "stderr",
          "text": [
            "WARNING:urllib3.connectionpool:Connection pool is full, discarding connection: kffhealthnews.org. Connection pool size: 10\n",
            "WARNING:urllib3.connectionpool:Connection pool is full, discarding connection: kffhealthnews.org. Connection pool size: 10\n",
            "WARNING:urllib3.connectionpool:Connection pool is full, discarding connection: kffhealthnews.org. Connection pool size: 10\n",
            "WARNING:urllib3.connectionpool:Connection pool is full, discarding connection: kffhealthnews.org. Connection pool size: 10\n",
            "WARNING:urllib3.connectionpool:Connection pool is full, discarding connection: kffhealthnews.org. Connection pool size: 10\n",
            "WARNING:urllib3.connectionpool:Connection pool is full, discarding connection: kffhealthnews.org. Connection pool size: 10\n",
            "WARNING:urllib3.connectionpool:Connection pool is full, discarding connection: kffhealthnews.org. Connection pool size: 10\n",
            "WARNING:urllib3.connectionpool:Connection pool is full, discarding connection: kffhealthnews.org. Connection pool size: 10\n"
          ]
        },
        {
          "output_type": "stream",
          "name": "stdout",
          "text": [
            "📊 Progress: 2350/4057 (57.9%)\n",
            "⏱️  Elapsed: 2.6min | ETA: 1.9min\n",
            "✅ Success: 2350 | ❌ Failed: 0\n",
            "📝 Avg content length: 7944 chars\n",
            "------------------------------------------------------------\n",
            "📊 Progress: 2400/4057 (59.2%)\n",
            "⏱️  Elapsed: 2.6min | ETA: 1.8min\n",
            "✅ Success: 2400 | ❌ Failed: 0\n",
            "📝 Avg content length: 7937 chars\n",
            "------------------------------------------------------------\n",
            "📊 Progress: 2450/4057 (60.4%)\n",
            "⏱️  Elapsed: 2.7min | ETA: 1.7min\n",
            "✅ Success: 2450 | ❌ Failed: 0\n",
            "📝 Avg content length: 7936 chars\n",
            "------------------------------------------------------------\n",
            "📊 Progress: 2500/4057 (61.6%)\n",
            "⏱️  Elapsed: 2.7min | ETA: 1.7min\n",
            "✅ Success: 2500 | ❌ Failed: 0\n",
            "📝 Avg content length: 7907 chars\n",
            "------------------------------------------------------------\n"
          ]
        },
        {
          "output_type": "stream",
          "name": "stderr",
          "text": [
            "WARNING:urllib3.connectionpool:Connection pool is full, discarding connection: kffhealthnews.org. Connection pool size: 10\n",
            "WARNING:urllib3.connectionpool:Connection pool is full, discarding connection: kffhealthnews.org. Connection pool size: 10\n",
            "WARNING:urllib3.connectionpool:Connection pool is full, discarding connection: kffhealthnews.org. Connection pool size: 10\n",
            "WARNING:urllib3.connectionpool:Connection pool is full, discarding connection: kffhealthnews.org. Connection pool size: 10\n",
            "WARNING:urllib3.connectionpool:Connection pool is full, discarding connection: kffhealthnews.org. Connection pool size: 10\n",
            "WARNING:urllib3.connectionpool:Connection pool is full, discarding connection: kffhealthnews.org. Connection pool size: 10\n",
            "WARNING:urllib3.connectionpool:Connection pool is full, discarding connection: kffhealthnews.org. Connection pool size: 9\n"
          ]
        },
        {
          "output_type": "stream",
          "name": "stdout",
          "text": [
            "📊 Progress: 2550/4057 (62.9%)\n",
            "⏱️  Elapsed: 2.8min | ETA: 1.6min\n",
            "✅ Success: 2550 | ❌ Failed: 0\n",
            "📝 Avg content length: 7885 chars\n",
            "------------------------------------------------------------\n",
            "📊 Progress: 2600/4057 (64.1%)\n",
            "⏱️  Elapsed: 2.8min | ETA: 1.6min\n",
            "✅ Success: 2600 | ❌ Failed: 0\n",
            "📝 Avg content length: 7881 chars\n",
            "------------------------------------------------------------\n",
            "📊 Progress: 2650/4057 (65.3%)\n",
            "⏱️  Elapsed: 2.9min | ETA: 1.5min\n",
            "✅ Success: 2650 | ❌ Failed: 0\n",
            "📝 Avg content length: 7864 chars\n",
            "------------------------------------------------------------\n"
          ]
        },
        {
          "output_type": "stream",
          "name": "stderr",
          "text": [
            "WARNING:urllib3.connectionpool:Connection pool is full, discarding connection: kffhealthnews.org. Connection pool size: 10\n"
          ]
        },
        {
          "output_type": "stream",
          "name": "stdout",
          "text": [
            "📊 Progress: 2700/4057 (66.6%)\n",
            "⏱️  Elapsed: 2.9min | ETA: 1.5min\n",
            "✅ Success: 2700 | ❌ Failed: 0\n",
            "📝 Avg content length: 7838 chars\n",
            "------------------------------------------------------------\n"
          ]
        },
        {
          "output_type": "stream",
          "name": "stderr",
          "text": [
            "WARNING:urllib3.connectionpool:Connection pool is full, discarding connection: kffhealthnews.org. Connection pool size: 10\n",
            "WARNING:urllib3.connectionpool:Connection pool is full, discarding connection: kffhealthnews.org. Connection pool size: 10\n",
            "WARNING:urllib3.connectionpool:Connection pool is full, discarding connection: kffhealthnews.org. Connection pool size: 8\n",
            "WARNING:urllib3.connectionpool:Connection pool is full, discarding connection: kffhealthnews.org. Connection pool size: 10\n",
            "WARNING:urllib3.connectionpool:Connection pool is full, discarding connection: kffhealthnews.org. Connection pool size: 10\n",
            "WARNING:urllib3.connectionpool:Connection pool is full, discarding connection: kffhealthnews.org. Connection pool size: 10\n",
            "WARNING:urllib3.connectionpool:Connection pool is full, discarding connection: kffhealthnews.org. Connection pool size: 10\n"
          ]
        },
        {
          "output_type": "stream",
          "name": "stdout",
          "text": [
            "📊 Progress: 2750/4057 (67.8%)\n",
            "⏱️  Elapsed: 3.0min | ETA: 1.4min\n",
            "✅ Success: 2750 | ❌ Failed: 0\n",
            "📝 Avg content length: 7825 chars\n",
            "------------------------------------------------------------\n",
            "📊 Progress: 2800/4057 (69.0%)\n",
            "⏱️  Elapsed: 3.0min | ETA: 1.4min\n",
            "✅ Success: 2800 | ❌ Failed: 0\n",
            "📝 Avg content length: 7817 chars\n",
            "------------------------------------------------------------\n",
            "📊 Progress: 2850/4057 (70.2%)\n",
            "⏱️  Elapsed: 3.1min | ETA: 1.3min\n",
            "✅ Success: 2850 | ❌ Failed: 0\n",
            "📝 Avg content length: 7815 chars\n",
            "------------------------------------------------------------\n",
            "📊 Progress: 2900/4057 (71.5%)\n",
            "⏱️  Elapsed: 3.1min | ETA: 1.3min\n",
            "✅ Success: 2900 | ❌ Failed: 0\n",
            "📝 Avg content length: 7811 chars\n",
            "------------------------------------------------------------\n"
          ]
        },
        {
          "output_type": "stream",
          "name": "stderr",
          "text": [
            "WARNING:urllib3.connectionpool:Connection pool is full, discarding connection: kffhealthnews.org. Connection pool size: 10\n",
            "WARNING:urllib3.connectionpool:Connection pool is full, discarding connection: kffhealthnews.org. Connection pool size: 10\n",
            "WARNING:urllib3.connectionpool:Connection pool is full, discarding connection: kffhealthnews.org. Connection pool size: 10\n",
            "WARNING:urllib3.connectionpool:Connection pool is full, discarding connection: kffhealthnews.org. Connection pool size: 10\n",
            "WARNING:urllib3.connectionpool:Connection pool is full, discarding connection: kffhealthnews.org. Connection pool size: 10\n",
            "WARNING:urllib3.connectionpool:Connection pool is full, discarding connection: kffhealthnews.org. Connection pool size: 10\n",
            "WARNING:urllib3.connectionpool:Connection pool is full, discarding connection: kffhealthnews.org. Connection pool size: 10\n",
            "WARNING:urllib3.connectionpool:Connection pool is full, discarding connection: kffhealthnews.org. Connection pool size: 10\n",
            "WARNING:urllib3.connectionpool:Connection pool is full, discarding connection: kffhealthnews.org. Connection pool size: 10\n"
          ]
        },
        {
          "output_type": "stream",
          "name": "stdout",
          "text": [
            "📊 Progress: 2950/4057 (72.7%)\n",
            "⏱️  Elapsed: 3.2min | ETA: 1.2min\n",
            "✅ Success: 2950 | ❌ Failed: 0\n",
            "📝 Avg content length: 7810 chars\n",
            "------------------------------------------------------------\n",
            "📊 Progress: 3000/4057 (73.9%)\n",
            "⏱️  Elapsed: 3.3min | ETA: 1.2min\n",
            "✅ Success: 3000 | ❌ Failed: 0\n",
            "📝 Avg content length: 7793 chars\n",
            "------------------------------------------------------------\n",
            "📊 Progress: 3050/4057 (75.2%)\n",
            "⏱️  Elapsed: 3.3min | ETA: 1.1min\n",
            "✅ Success: 3050 | ❌ Failed: 0\n",
            "📝 Avg content length: 7786 chars\n",
            "------------------------------------------------------------\n",
            "📊 Progress: 3100/4057 (76.4%)\n",
            "⏱️  Elapsed: 3.4min | ETA: 1.0min\n",
            "✅ Success: 3100 | ❌ Failed: 0\n",
            "📝 Avg content length: 7777 chars\n",
            "------------------------------------------------------------\n"
          ]
        },
        {
          "output_type": "stream",
          "name": "stderr",
          "text": [
            "WARNING:urllib3.connectionpool:Connection pool is full, discarding connection: kffhealthnews.org. Connection pool size: 10\n",
            "WARNING:urllib3.connectionpool:Connection pool is full, discarding connection: kffhealthnews.org. Connection pool size: 10\n",
            "WARNING:urllib3.connectionpool:Connection pool is full, discarding connection: kffhealthnews.org. Connection pool size: 10\n",
            "WARNING:urllib3.connectionpool:Connection pool is full, discarding connection: kffhealthnews.org. Connection pool size: 10\n"
          ]
        },
        {
          "output_type": "stream",
          "name": "stdout",
          "text": [
            "📊 Progress: 3150/4057 (77.6%)\n",
            "⏱️  Elapsed: 3.4min | ETA: 1.0min\n",
            "✅ Success: 3150 | ❌ Failed: 0\n",
            "📝 Avg content length: 7764 chars\n",
            "------------------------------------------------------------\n"
          ]
        },
        {
          "output_type": "stream",
          "name": "stderr",
          "text": [
            "WARNING:urllib3.connectionpool:Connection pool is full, discarding connection: kffhealthnews.org. Connection pool size: 10\n",
            "WARNING:urllib3.connectionpool:Connection pool is full, discarding connection: kffhealthnews.org. Connection pool size: 10\n",
            "WARNING:urllib3.connectionpool:Connection pool is full, discarding connection: kffhealthnews.org. Connection pool size: 10\n",
            "WARNING:urllib3.connectionpool:Connection pool is full, discarding connection: kffhealthnews.org. Connection pool size: 10\n"
          ]
        },
        {
          "output_type": "stream",
          "name": "stdout",
          "text": [
            "📊 Progress: 3200/4057 (78.9%)\n",
            "⏱️  Elapsed: 3.5min | ETA: 0.9min\n",
            "✅ Success: 3200 | ❌ Failed: 0\n",
            "📝 Avg content length: 7742 chars\n",
            "------------------------------------------------------------\n",
            "📊 Progress: 3250/4057 (80.1%)\n",
            "⏱️  Elapsed: 3.5min | ETA: 0.9min\n",
            "✅ Success: 3250 | ❌ Failed: 0\n",
            "📝 Avg content length: 7718 chars\n",
            "------------------------------------------------------------\n",
            "📊 Progress: 3300/4057 (81.3%)\n",
            "⏱️  Elapsed: 3.6min | ETA: 0.8min\n",
            "✅ Success: 3300 | ❌ Failed: 0\n",
            "📝 Avg content length: 7696 chars\n",
            "------------------------------------------------------------\n"
          ]
        },
        {
          "output_type": "stream",
          "name": "stderr",
          "text": [
            "WARNING:urllib3.connectionpool:Connection pool is full, discarding connection: kffhealthnews.org. Connection pool size: 10\n"
          ]
        },
        {
          "output_type": "stream",
          "name": "stdout",
          "text": [
            "📊 Progress: 3350/4057 (82.6%)\n",
            "⏱️  Elapsed: 3.6min | ETA: 0.8min\n",
            "✅ Success: 3350 | ❌ Failed: 0\n",
            "📝 Avg content length: 7667 chars\n",
            "------------------------------------------------------------\n"
          ]
        },
        {
          "output_type": "stream",
          "name": "stderr",
          "text": [
            "WARNING:urllib3.connectionpool:Connection pool is full, discarding connection: kffhealthnews.org. Connection pool size: 10\n",
            "WARNING:urllib3.connectionpool:Connection pool is full, discarding connection: kffhealthnews.org. Connection pool size: 10\n",
            "WARNING:urllib3.connectionpool:Connection pool is full, discarding connection: kffhealthnews.org. Connection pool size: 10\n",
            "WARNING:urllib3.connectionpool:Connection pool is full, discarding connection: kffhealthnews.org. Connection pool size: 10\n",
            "WARNING:urllib3.connectionpool:Connection pool is full, discarding connection: kffhealthnews.org. Connection pool size: 10\n",
            "WARNING:urllib3.connectionpool:Connection pool is full, discarding connection: kffhealthnews.org. Connection pool size: 10\n",
            "WARNING:urllib3.connectionpool:Connection pool is full, discarding connection: kffhealthnews.org. Connection pool size: 10\n",
            "WARNING:urllib3.connectionpool:Connection pool is full, discarding connection: kffhealthnews.org. Connection pool size: 10\n"
          ]
        },
        {
          "output_type": "stream",
          "name": "stdout",
          "text": [
            "📊 Progress: 3400/4057 (83.8%)\n",
            "⏱️  Elapsed: 3.7min | ETA: 0.7min\n",
            "✅ Success: 3400 | ❌ Failed: 0\n",
            "📝 Avg content length: 7644 chars\n",
            "------------------------------------------------------------\n",
            "📊 Progress: 3450/4057 (85.0%)\n",
            "⏱️  Elapsed: 3.7min | ETA: 0.7min\n",
            "✅ Success: 3450 | ❌ Failed: 0\n",
            "📝 Avg content length: 7628 chars\n",
            "------------------------------------------------------------\n"
          ]
        },
        {
          "output_type": "stream",
          "name": "stderr",
          "text": [
            "WARNING:urllib3.connectionpool:Connection pool is full, discarding connection: kffhealthnews.org. Connection pool size: 10\n"
          ]
        },
        {
          "output_type": "stream",
          "name": "stdout",
          "text": [
            "📊 Progress: 3500/4057 (86.3%)\n",
            "⏱️  Elapsed: 3.8min | ETA: 0.6min\n",
            "✅ Success: 3500 | ❌ Failed: 0\n",
            "📝 Avg content length: 7613 chars\n",
            "------------------------------------------------------------\n",
            "📊 Progress: 3550/4057 (87.5%)\n",
            "⏱️  Elapsed: 3.8min | ETA: 0.5min\n",
            "✅ Success: 3550 | ❌ Failed: 0\n",
            "📝 Avg content length: 7590 chars\n",
            "------------------------------------------------------------\n"
          ]
        },
        {
          "output_type": "stream",
          "name": "stderr",
          "text": [
            "WARNING:urllib3.connectionpool:Connection pool is full, discarding connection: kffhealthnews.org. Connection pool size: 10\n",
            "WARNING:urllib3.connectionpool:Connection pool is full, discarding connection: kffhealthnews.org. Connection pool size: 10\n",
            "WARNING:urllib3.connectionpool:Connection pool is full, discarding connection: kffhealthnews.org. Connection pool size: 10\n",
            "WARNING:urllib3.connectionpool:Connection pool is full, discarding connection: kffhealthnews.org. Connection pool size: 10\n",
            "WARNING:urllib3.connectionpool:Connection pool is full, discarding connection: kffhealthnews.org. Connection pool size: 10\n",
            "WARNING:urllib3.connectionpool:Connection pool is full, discarding connection: kffhealthnews.org. Connection pool size: 10\n",
            "WARNING:urllib3.connectionpool:Connection pool is full, discarding connection: kffhealthnews.org. Connection pool size: 10\n",
            "WARNING:urllib3.connectionpool:Connection pool is full, discarding connection: kffhealthnews.org. Connection pool size: 10\n"
          ]
        },
        {
          "output_type": "stream",
          "name": "stdout",
          "text": [
            "📊 Progress: 3600/4057 (88.7%)\n",
            "⏱️  Elapsed: 3.9min | ETA: 0.5min\n",
            "✅ Success: 3600 | ❌ Failed: 0\n",
            "📝 Avg content length: 7571 chars\n",
            "------------------------------------------------------------\n",
            "📊 Progress: 3650/4057 (90.0%)\n",
            "⏱️  Elapsed: 4.0min | ETA: 0.4min\n",
            "✅ Success: 3650 | ❌ Failed: 0\n",
            "📝 Avg content length: 7560 chars\n",
            "------------------------------------------------------------\n",
            "📊 Progress: 3700/4057 (91.2%)\n",
            "⏱️  Elapsed: 4.0min | ETA: 0.4min\n",
            "✅ Success: 3700 | ❌ Failed: 0\n",
            "📝 Avg content length: 7551 chars\n",
            "------------------------------------------------------------\n",
            "📊 Progress: 3750/4057 (92.4%)\n",
            "⏱️  Elapsed: 4.0min | ETA: 0.3min\n",
            "✅ Success: 3750 | ❌ Failed: 0\n",
            "📝 Avg content length: 7536 chars\n",
            "------------------------------------------------------------\n"
          ]
        },
        {
          "output_type": "stream",
          "name": "stderr",
          "text": [
            "WARNING:urllib3.connectionpool:Connection pool is full, discarding connection: kffhealthnews.org. Connection pool size: 10\n",
            "WARNING:urllib3.connectionpool:Connection pool is full, discarding connection: kffhealthnews.org. Connection pool size: 10\n"
          ]
        },
        {
          "output_type": "stream",
          "name": "stdout",
          "text": [
            "📊 Progress: 3800/4057 (93.7%)\n",
            "⏱️  Elapsed: 4.1min | ETA: 0.3min\n",
            "✅ Success: 3800 | ❌ Failed: 0\n",
            "📝 Avg content length: 7517 chars\n",
            "------------------------------------------------------------\n"
          ]
        },
        {
          "output_type": "stream",
          "name": "stderr",
          "text": [
            "WARNING:urllib3.connectionpool:Connection pool is full, discarding connection: kffhealthnews.org. Connection pool size: 10\n",
            "WARNING:urllib3.connectionpool:Connection pool is full, discarding connection: kffhealthnews.org. Connection pool size: 10\n",
            "WARNING:urllib3.connectionpool:Connection pool is full, discarding connection: kffhealthnews.org. Connection pool size: 10\n",
            "WARNING:urllib3.connectionpool:Connection pool is full, discarding connection: kffhealthnews.org. Connection pool size: 9\n"
          ]
        },
        {
          "output_type": "stream",
          "name": "stdout",
          "text": [
            "📊 Progress: 3850/4057 (94.9%)\n",
            "⏱️  Elapsed: 4.1min | ETA: 0.2min\n",
            "✅ Success: 3850 | ❌ Failed: 0\n",
            "📝 Avg content length: 7495 chars\n",
            "------------------------------------------------------------\n",
            "📊 Progress: 3900/4057 (96.1%)\n",
            "⏱️  Elapsed: 4.2min | ETA: 0.2min\n",
            "✅ Success: 3900 | ❌ Failed: 0\n",
            "📝 Avg content length: 7488 chars\n",
            "------------------------------------------------------------\n",
            "📊 Progress: 3950/4057 (97.4%)\n",
            "⏱️  Elapsed: 4.2min | ETA: 0.1min\n",
            "✅ Success: 3950 | ❌ Failed: 0\n",
            "📝 Avg content length: 7471 chars\n",
            "------------------------------------------------------------\n",
            "📊 Progress: 4000/4057 (98.6%)\n",
            "⏱️  Elapsed: 4.3min | ETA: 0.1min\n",
            "✅ Success: 4000 | ❌ Failed: 0\n",
            "📝 Avg content length: 7456 chars\n",
            "------------------------------------------------------------\n"
          ]
        },
        {
          "output_type": "stream",
          "name": "stderr",
          "text": [
            "WARNING:urllib3.connectionpool:Connection pool is full, discarding connection: kffhealthnews.org. Connection pool size: 10\n",
            "WARNING:urllib3.connectionpool:Connection pool is full, discarding connection: kffhealthnews.org. Connection pool size: 10\n",
            "WARNING:urllib3.connectionpool:Connection pool is full, discarding connection: kffhealthnews.org. Connection pool size: 9\n",
            "WARNING:urllib3.connectionpool:Connection pool is full, discarding connection: kffhealthnews.org. Connection pool size: 10\n",
            "WARNING:urllib3.connectionpool:Connection pool is full, discarding connection: kffhealthnews.org. Connection pool size: 10\n",
            "WARNING:urllib3.connectionpool:Connection pool is full, discarding connection: kffhealthnews.org. Connection pool size: 10\n",
            "WARNING:urllib3.connectionpool:Connection pool is full, discarding connection: kffhealthnews.org. Connection pool size: 10\n",
            "WARNING:urllib3.connectionpool:Connection pool is full, discarding connection: kffhealthnews.org. Connection pool size: 10\n",
            "WARNING:urllib3.connectionpool:Connection pool is full, discarding connection: kffhealthnews.org. Connection pool size: 10\n"
          ]
        },
        {
          "output_type": "stream",
          "name": "stdout",
          "text": [
            "📊 Progress: 4050/4057 (99.8%)\n",
            "⏱️  Elapsed: 4.3min | ETA: 0.0min\n",
            "✅ Success: 4050 | ❌ Failed: 0\n",
            "📝 Avg content length: 7436 chars\n",
            "------------------------------------------------------------\n",
            "📊 Progress: 4057/4057 (100.0%)\n",
            "⏱️  Elapsed: 4.3min | ETA: 0.0min\n",
            "✅ Success: 4057 | ❌ Failed: 0\n",
            "📝 Avg content length: 7432 chars\n",
            "------------------------------------------------------------\n",
            "\n",
            "============================================================\n",
            "🎉 SCRAPING COMPLETED!\n",
            "⏱️  Total time: 4.3 minutes\n",
            "✅ Successfully scraped: 4057\n",
            "❌ Failed: 0\n",
            "📈 Success rate: 100.0%\n",
            "📝 Total content extracted: 30,152,161 characters\n",
            "📊 Average content per article: 7432 characters\n",
            "============================================================\n",
            "💾 Enter output filename (default: kff_articles.csv): kff4000.csv\n",
            "💾 Successful results saved to: kff4000.csv\n",
            "✨ Scraping completed! Check your output files.\n"
          ]
        }
      ],
      "source": [
        "#!/usr/bin/env python3\n",
        "\"\"\"\n",
        "KFF Health News Article Scraper\n",
        "High-performance scraper designed to extract clean article content from KFF Health News URLs\n",
        "Optimized for processing 10,000+ URLs in ~40 minutes with full transparency\n",
        "\"\"\"\n",
        "\n",
        "import requests\n",
        "from bs4 import BeautifulSoup\n",
        "import pandas as pd\n",
        "import time\n",
        "from concurrent.futures import ThreadPoolExecutor, as_completed\n",
        "import threading\n",
        "from urllib.parse import urlparse\n",
        "import re\n",
        "import json\n",
        "from tqdm import tqdm\n",
        "import warnings\n",
        "warnings.filterwarnings('ignore')\n",
        "\n",
        "class KFFScraper:\n",
        "    def __init__(self, max_workers=20, timeout=15):\n",
        "        \"\"\"\n",
        "        Initialize the scraper with optimized settings\n",
        "        max_workers: Number of concurrent threads (20 for ~40min target)\n",
        "        timeout: Request timeout in seconds\n",
        "        \"\"\"\n",
        "        self.max_workers = max_workers\n",
        "        self.timeout = timeout\n",
        "        self.session = self._create_session()\n",
        "        self.results = []\n",
        "        self.failed_urls = []\n",
        "        self.lock = threading.Lock()\n",
        "\n",
        "        # Progress tracking\n",
        "        self.processed = 0\n",
        "        self.total_urls = 0\n",
        "        self.start_time = None\n",
        "\n",
        "        # Unwanted text patterns to filter out\n",
        "        self.unwanted_patterns = [\n",
        "            r'Click to share on.*?(?=Click|$)',\n",
        "            r'@\\w+',\n",
        "            r'Related Topics.*',\n",
        "            r'Contact Us.*',\n",
        "            r'Submit a Story Tip.*',\n",
        "            r'Republish This Story.*',\n",
        "            r'\\(.*?/KHN\\)',  # Author attribution like (Hannah Norman/KHN)\n",
        "            r'Share This Story:.*',\n",
        "            r'We want to hear from you:.*',\n",
        "        ]\n",
        "\n",
        "        print(\"🚀 KFF Health News Scraper Initialized\")\n",
        "        print(f\"⚙️ Settings: {max_workers} workers, {timeout}s timeout\")\n",
        "        print(\"=\"*60)\n",
        "\n",
        "    def _create_session(self):\n",
        "        \"\"\"Create optimized requests session\"\"\"\n",
        "        session = requests.Session()\n",
        "        session.headers.update({\n",
        "            'User-Agent': 'Mozilla/5.0 (Windows NT 10.0; Win64; x64) AppleWebKit/537.36 (KHTML, like Gecko) Chrome/91.0.4472.124 Safari/537.36',\n",
        "            'Accept': 'text/html,application/xhtml+xml,application/xml;q=0.9,image/webp,*/*;q=0.8',\n",
        "            'Accept-Language': 'en-US,en;q=0.5',\n",
        "            'Accept-Encoding': 'gzip, deflate',\n",
        "            'Connection': 'keep-alive',\n",
        "            'Upgrade-Insecure-Requests': '1',\n",
        "        })\n",
        "        return session\n",
        "\n",
        "    def clean_text(self, text):\n",
        "        \"\"\"Clean extracted text from unwanted patterns\"\"\"\n",
        "        if not text:\n",
        "            return \"\"\n",
        "\n",
        "        # Remove unwanted patterns\n",
        "        for pattern in self.unwanted_patterns:\n",
        "            text = re.sub(pattern, '', text, flags=re.IGNORECASE | re.DOTALL)\n",
        "\n",
        "        # Clean up whitespace\n",
        "        text = re.sub(r'\\s+', ' ', text)  # Multiple spaces to single\n",
        "        text = re.sub(r'\\n\\s*\\n', '\\n', text)  # Multiple newlines to single\n",
        "        text = text.strip()\n",
        "\n",
        "        return text\n",
        "\n",
        "    def extract_article_content(self, soup):\n",
        "        \"\"\"Extract clean article content focusing on main text\"\"\"\n",
        "        content_parts = []\n",
        "\n",
        "        # Find the main article content container\n",
        "        article_body = soup.find('div', class_='article-body')\n",
        "        if not article_body:\n",
        "            # Fallback to entry-content\n",
        "            article_body = soup.find('div', class_='entry-content')\n",
        "\n",
        "        if article_body:\n",
        "            # Remove unwanted elements\n",
        "            unwanted_selectors = [\n",
        "                'aside',  # Sidebar content\n",
        "                'figure',  # Images and captions\n",
        "                'figcaption',  # Image captions\n",
        "                '.wp-block',  # WordPress blocks (newsletters, etc.)\n",
        "                '.sharedaddy',  # Sharing buttons\n",
        "                '.sd-sharing',  # Social sharing\n",
        "                '.meta-authors',  # Author info\n",
        "                '.category-tag-list',  # Related topics\n",
        "                '.share',  # Share buttons\n",
        "                '.newsletter',  # Newsletter signup\n",
        "                '.partner',  # Partner content\n",
        "                'form',  # Forms\n",
        "                'button',  # Buttons\n",
        "                '.screen-reader-text'  # Hidden text\n",
        "            ]\n",
        "\n",
        "            for selector in unwanted_selectors:\n",
        "                for element in article_body.select(selector):\n",
        "                    element.decompose()\n",
        "\n",
        "            # Extract text from remaining paragraphs\n",
        "            paragraphs = article_body.find_all(['p', 'div'], recursive=True)\n",
        "\n",
        "            for p in paragraphs:\n",
        "                # Skip if paragraph contains unwanted classes\n",
        "                if p.get('class') and any(cls in str(p.get('class')) for cls in\n",
        "                                        ['share', 'meta', 'social', 'republish', 'feedback']):\n",
        "                    continue\n",
        "\n",
        "                text = p.get_text(strip=True)\n",
        "                if text and len(text) > 30:  # Only meaningful content\n",
        "                    # Additional filtering for sharing text\n",
        "                    if not any(phrase in text.lower() for phrase in\n",
        "                              ['click to share', 'opens in new window', 'related topics',\n",
        "                               'contact us', 'submit a story', '@', 'republish']):\n",
        "                        content_parts.append(text)\n",
        "\n",
        "        return ' '.join(content_parts)\n",
        "\n",
        "    def scrape_single_url(self, url):\n",
        "        \"\"\"Scrape a single URL and extract title + content\"\"\"\n",
        "        try:\n",
        "            # Make request\n",
        "            response = self.session.get(url, timeout=self.timeout)\n",
        "            response.raise_for_status()\n",
        "\n",
        "            # Parse HTML\n",
        "            soup = BeautifulSoup(response.content, 'html.parser')\n",
        "\n",
        "            # Extract title\n",
        "            title = \"\"\n",
        "            title_element = soup.find('h1', class_='entry-title')\n",
        "            if title_element:\n",
        "                title = title_element.get_text(strip=True)\n",
        "            else:\n",
        "                # Fallback to page title\n",
        "                title_tag = soup.find('title')\n",
        "                if title_tag:\n",
        "                    title = title_tag.get_text(strip=True)\n",
        "\n",
        "            # Extract content\n",
        "            content = self.extract_article_content(soup)\n",
        "            content = self.clean_text(content)\n",
        "\n",
        "            return {\n",
        "                'url': url,\n",
        "                'title': title,\n",
        "                'content': content,\n",
        "                'status': 'success',\n",
        "                'content_length': len(content)\n",
        "            }\n",
        "\n",
        "        except requests.exceptions.RequestException as e:\n",
        "            return {\n",
        "                'url': url,\n",
        "                'title': '',\n",
        "                'content': '',\n",
        "                'status': f'request_error: {str(e)}',\n",
        "                'content_length': 0\n",
        "            }\n",
        "        except Exception as e:\n",
        "            return {\n",
        "                'url': url,\n",
        "                'title': '',\n",
        "                'content': '',\n",
        "                'status': f'parsing_error: {str(e)}',\n",
        "                'content_length': 0\n",
        "            }\n",
        "\n",
        "    def update_progress(self, result):\n",
        "        \"\"\"Update progress tracking with thread safety\"\"\"\n",
        "        with self.lock:\n",
        "            self.processed += 1\n",
        "\n",
        "            if result['status'] == 'success':\n",
        "                self.results.append(result)\n",
        "            else:\n",
        "                self.failed_urls.append(result)\n",
        "\n",
        "            # Calculate stats\n",
        "            elapsed = time.time() - self.start_time\n",
        "            progress = (self.processed / self.total_urls) * 100\n",
        "            avg_time_per_url = elapsed / self.processed\n",
        "            estimated_remaining = (self.total_urls - self.processed) * avg_time_per_url\n",
        "\n",
        "            # Print progress every 50 URLs\n",
        "            if self.processed % 50 == 0 or self.processed == self.total_urls:\n",
        "                print(f\"📊 Progress: {self.processed}/{self.total_urls} ({progress:.1f}%)\")\n",
        "                print(f\"⏱️  Elapsed: {elapsed/60:.1f}min | ETA: {estimated_remaining/60:.1f}min\")\n",
        "                print(f\"✅ Success: {len(self.results)} | ❌ Failed: {len(self.failed_urls)}\")\n",
        "                if len(self.results) > 0:\n",
        "                    avg_content_length = sum(r['content_length'] for r in self.results) / len(self.results)\n",
        "                    print(f\"📝 Avg content length: {avg_content_length:.0f} chars\")\n",
        "                print(\"-\" * 60)\n",
        "\n",
        "    def scrape_urls(self, urls):\n",
        "        \"\"\"Main scraping function with concurrent processing\"\"\"\n",
        "        self.total_urls = len(urls)\n",
        "        self.start_time = time.time()\n",
        "\n",
        "        print(f\"🎯 Starting to scrape {self.total_urls} URLs\")\n",
        "        print(f\"🔧 Using {self.max_workers} concurrent workers\")\n",
        "        print(f\"🎯 Target: Complete in ~40 minutes\")\n",
        "        print(\"=\" * 60)\n",
        "\n",
        "        with ThreadPoolExecutor(max_workers=self.max_workers) as executor:\n",
        "            # Submit all tasks\n",
        "            future_to_url = {\n",
        "                executor.submit(self.scrape_single_url, url): url\n",
        "                for url in urls\n",
        "            }\n",
        "\n",
        "            # Process completed tasks\n",
        "            for future in as_completed(future_to_url):\n",
        "                result = future.result()\n",
        "                self.update_progress(result)\n",
        "\n",
        "        # Final summary\n",
        "        total_time = time.time() - self.start_time\n",
        "        print(\"\\n\" + \"=\" * 60)\n",
        "        print(\"🎉 SCRAPING COMPLETED!\")\n",
        "        print(f\"⏱️  Total time: {total_time/60:.1f} minutes\")\n",
        "        print(f\"✅ Successfully scraped: {len(self.results)}\")\n",
        "        print(f\"❌ Failed: {len(self.failed_urls)}\")\n",
        "        print(f\"📈 Success rate: {(len(self.results)/self.total_urls)*100:.1f}%\")\n",
        "\n",
        "        if len(self.results) > 0:\n",
        "            avg_content_length = sum(r['content_length'] for r in self.results) / len(self.results)\n",
        "            total_content = sum(r['content_length'] for r in self.results)\n",
        "            print(f\"📝 Total content extracted: {total_content:,} characters\")\n",
        "            print(f\"📊 Average content per article: {avg_content_length:.0f} characters\")\n",
        "        print(\"=\" * 60)\n",
        "\n",
        "    def save_results(self, output_filename='kff_articles.csv', failed_filename='failed_urls.csv'):\n",
        "        \"\"\"Save results to CSV files\"\"\"\n",
        "        if self.results:\n",
        "            df = pd.DataFrame(self.results)\n",
        "            df.to_csv(output_filename, index=False, encoding='utf-8')\n",
        "            print(f\"💾 Successful results saved to: {output_filename}\")\n",
        "\n",
        "        if self.failed_urls:\n",
        "            df_failed = pd.DataFrame(self.failed_urls)\n",
        "            df_failed.to_csv(failed_filename, index=False, encoding='utf-8')\n",
        "            print(f\"💾 Failed URLs saved to: {failed_filename}\")\n",
        "\n",
        "def load_urls_from_file(filename):\n",
        "    \"\"\"Load URLs from a text file\"\"\"\n",
        "    urls = []\n",
        "    try:\n",
        "        with open(filename, 'r', encoding='utf-8') as file:\n",
        "            for line in file:\n",
        "                url = line.strip()\n",
        "                if url and url.startswith('http'):\n",
        "                    urls.append(url)\n",
        "        print(f\"📁 Loaded {len(urls)} URLs from {filename}\")\n",
        "        return urls\n",
        "    except FileNotFoundError:\n",
        "        print(f\"❌ File {filename} not found!\")\n",
        "        return []\n",
        "\n",
        "# Example usage and main execution\n",
        "if __name__ == \"__main__\":\n",
        "    print(\"🌟 KFF Health News Article Scraper\")\n",
        "    print(\"=\" * 60)\n",
        "\n",
        "    # Option 1: Load URLs from file\n",
        "    urls_file = input(\"📁 Enter the path to your URLs file (or press Enter for test mode): \").strip()\n",
        "\n",
        "    if urls_file:\n",
        "        urls = load_urls_from_file(urls_file)\n",
        "        if not urls:\n",
        "            print(\"❌ No valid URLs found. Exiting.\")\n",
        "            exit(1)\n",
        "    else:\n",
        "        # Test mode with sample URLs\n",
        "        print(\"🧪 Test mode: Using sample URLs\")\n",
        "        urls = [\n",
        "            \"https://kffhealthnews.org/news/article/artificial-intelligence-algorithms-software-health-care/\",\n",
        "            # Add more test URLs here if needed\n",
        "        ]\n",
        "\n",
        "    # Initialize scraper (optimized for 10K URLs in 40 minutes)\n",
        "    scraper = KFFScraper(max_workers=20, timeout=15)\n",
        "\n",
        "    # Start scraping\n",
        "    scraper.scrape_urls(urls)\n",
        "\n",
        "    # Save results\n",
        "    output_file = input(\"💾 Enter output filename (default: kff_articles.csv): \").strip()\n",
        "    if not output_file:\n",
        "        output_file = \"kff_articles.csv\"\n",
        "\n",
        "    scraper.save_results(output_file)\n",
        "\n",
        "    print(\"✨ Scraping completed! Check your output files.\")"
      ]
    }
  ]
}